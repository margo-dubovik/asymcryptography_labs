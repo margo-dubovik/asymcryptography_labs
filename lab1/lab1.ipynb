{
 "cells": [
  {
   "cell_type": "code",
   "execution_count": 169,
   "metadata": {},
   "outputs": [],
   "source": [
    "import numpy as np\n",
    "import random\n",
    "from random import randint\n",
    "import gmpy2"
   ]
  },
  {
   "cell_type": "markdown",
   "metadata": {},
   "source": [
    "Допоміжні ф-ї"
   ]
  },
  {
   "cell_type": "code",
   "execution_count": 170,
   "metadata": {},
   "outputs": [],
   "source": [
    "def conv_to_list(n, t):\n",
    "    num = [int(i) for i in bin(n)[2:]]\n",
    "    while len(num) < t:\n",
    "        num.insert(0, 0)\n",
    "    return num\n",
    "\n",
    "def display(lst):\n",
    "    for i in lst:\n",
    "        print(i)\n",
    "        \n",
    "def bin_lst_to_int(lst):\n",
    "    return int(\"\".join(str(x) for x in lst), 2)\n",
    "\n",
    "def gen_bits(N):\n",
    "    d = np.random.randint(0, 2, N).tolist()\n",
    "    d_int = bin_lst_to_int(d)\n",
    "    if d_int == 0: #check if all elements in d are 0\n",
    "        while d_int == 0:\n",
    "            d = np.random.randint(0, 2, N).tolist()\n",
    "            d_int = bin_lst_to_int(d)\n",
    "            print(d)\n",
    "    return d\n",
    "\n",
    "def hex_to_list(hex, b):\n",
    "    n = int(hex, 16)\n",
    "    number = []\n",
    "    while n > 0:\n",
    "        number.insert(0, n % b)  # take remainder of division and add it leftmost of the array\n",
    "        n = n // b\n",
    "    return number\n",
    "\n",
    "def hex_to_int(hex):\n",
    "    return bin_lst_to_int(hex_to_list(hex, 2))"
   ]
  },
  {
   "cell_type": "markdown",
   "metadata": {},
   "source": [
    "1. Вбудований генератор псевдовипадкових чисел"
   ]
  },
  {
   "cell_type": "code",
   "execution_count": 171,
   "metadata": {},
   "outputs": [
    {
     "name": "stdout",
     "output_type": "stream",
     "text": [
      "[0, 1, 0, 0, 0, 1, 0, 0]\n",
      "[0, 0, 1, 0, 0, 0, 0, 0]\n",
      "[1, 0, 0, 0, 0, 0, 1, 0]\n",
      "[0, 0, 1, 1, 1, 1, 0, 0]\n",
      "[1, 1, 1, 1, 1, 1, 0, 1]\n",
      "[1, 1, 1, 0, 0, 1, 1, 0]\n",
      "[1, 1, 1, 1, 0, 0, 0, 1]\n",
      "[1, 1, 0, 0, 0, 0, 1, 0]\n",
      "[0, 1, 1, 0, 1, 0, 1, 1]\n",
      "[0, 0, 1, 1, 0, 0, 0, 0]\n"
     ]
    }
   ],
   "source": [
    "def rand(N):\n",
    "    random.seed(1)\n",
    "    for i in range(0,N):\n",
    "        num = randint(0, 256)\n",
    "        bin_num = bin(num)[2:]\n",
    "        n = []\n",
    "        for i in range(0,len(bin_num)): n.append(int(bin_num[i]))\n",
    "        while len(n) != 8: n.insert(0,0)\n",
    "        print(n)\n",
    "\n",
    "rand (10)"
   ]
  },
  {
   "cell_type": "markdown",
   "metadata": {},
   "source": [
    "2. Генератор LehmerLow"
   ]
  },
  {
   "cell_type": "code",
   "execution_count": 172,
   "metadata": {},
   "outputs": [
    {
     "name": "stdout",
     "output_type": "stream",
     "text": [
      "[1, 0, 1, 0, 0, 1, 1, 0]\n",
      "[0, 0, 0, 1, 1, 1, 0, 1]\n",
      "[1, 0, 0, 1, 0, 1, 0, 0]\n",
      "[0, 0, 0, 0, 1, 0, 1, 1]\n",
      "[1, 0, 0, 0, 0, 0, 1, 0]\n",
      "[1, 1, 1, 1, 1, 0, 0, 1]\n",
      "[0, 1, 1, 1, 0, 0, 0, 0]\n",
      "[1, 1, 1, 0, 0, 1, 1, 1]\n",
      "[0, 1, 0, 1, 1, 1, 1, 0]\n",
      "[1, 1, 0, 1, 0, 1, 0, 1]\n"
     ]
    }
   ],
   "source": [
    "m = 2**32\n",
    "a = 2**16 + 1\n",
    "c = 119\n",
    "\n",
    "def LehmerLow(N):\n",
    "    prev = np.random.randint(0,2**31) \n",
    "    res = []\n",
    "    for i in range(N):\n",
    "        x_i = (a * prev + c)%m\n",
    "        res_i = conv_to_list(x_i, 32)[-8:]\n",
    "        res.append(res_i)\n",
    "        prev = x_i\n",
    "    return res    \n",
    "\n",
    "lehmer_low = LehmerLow(10)\n",
    "display(lehmer_low)"
   ]
  },
  {
   "cell_type": "markdown",
   "metadata": {},
   "source": [
    "3. Генератор LehmerHigh"
   ]
  },
  {
   "cell_type": "code",
   "execution_count": 173,
   "metadata": {},
   "outputs": [
    {
     "name": "stdout",
     "output_type": "stream",
     "text": [
      "[1, 0, 0, 0, 0, 0, 0, 0]\n",
      "[1, 1, 0, 1, 0, 1, 0, 1]\n",
      "[0, 0, 1, 0, 1, 0, 1, 0]\n",
      "[1, 0, 0, 0, 0, 0, 0, 0]\n",
      "[1, 1, 0, 1, 0, 1, 1, 0]\n",
      "[0, 0, 1, 0, 1, 1, 0, 1]\n",
      "[1, 0, 0, 0, 0, 1, 0, 0]\n",
      "[1, 1, 0, 1, 1, 0, 1, 1]\n",
      "[0, 0, 1, 1, 0, 0, 1, 1]\n",
      "[1, 0, 0, 0, 1, 1, 0, 0]\n"
     ]
    }
   ],
   "source": [
    "m = 2**32\n",
    "a = 2**16 + 1\n",
    "c = 119\n",
    "\n",
    "def LehmerHigh(N):\n",
    "    prev = np.random.randint(0,2**31) \n",
    "    res = []\n",
    "    for i in range(N):\n",
    "        x_i = (a * prev + c)%m\n",
    "        res_i = conv_to_list(x_i, 32)[:8]\n",
    "        res.append(res_i)\n",
    "        prev = x_i\n",
    "    return res    \n",
    "\n",
    "lehmer_high = LehmerHigh(10)\n",
    "display(lehmer_high)"
   ]
  },
  {
   "cell_type": "markdown",
   "metadata": {},
   "source": [
    "4. Генератор псевдовипадкових двійкових послідовностей L20"
   ]
  },
  {
   "cell_type": "code",
   "execution_count": 174,
   "metadata": {},
   "outputs": [
    {
     "name": "stdout",
     "output_type": "stream",
     "text": [
      "[1, 0, 1, 1, 1, 1, 1, 0, 0, 1, 0, 0, 1, 1, 1, 1, 0, 1, 1, 0]\n",
      "[1, 0, 1, 1, 1, 1, 1, 0, 0, 1, 0, 0, 1, 1, 1, 1, 0, 1, 1, 0, 1, 0, 1, 0, 0, 1, 0, 0, 1, 0, 1, 0, 1, 1, 0, 1] 36\n"
     ]
    }
   ],
   "source": [
    "def L20(N):\n",
    "    d1 = np.random.randint(0, 2, 20)\n",
    "    d = d1.tolist()\n",
    "    print(d)\n",
    "    for i in range(20, 20 + N): \n",
    "        x = d[i-3] ^ d [i-5] ^ d[i-9] ^ d[i-20]\n",
    "        d.append(x)\n",
    "        \n",
    "    return d\n",
    "\n",
    "l20 = L20(16)\n",
    "print(l20, len(l20))"
   ]
  },
  {
   "cell_type": "markdown",
   "metadata": {},
   "source": [
    "5. Генератор псевдовипадкових двійкових послідовностей L89"
   ]
  },
  {
   "cell_type": "code",
   "execution_count": 175,
   "metadata": {},
   "outputs": [
    {
     "name": "stdout",
     "output_type": "stream",
     "text": [
      "[0, 0, 0, 1, 1, 0, 0, 0, 0, 0, 0, 1, 0, 1, 1, 1, 0, 1, 1, 1, 0, 0, 0, 1, 0, 0, 1, 1, 0, 1, 1, 0, 1, 0, 1, 1, 0, 1, 0, 1, 0, 0, 0, 0, 0, 1, 1, 1, 0, 1, 1, 1, 1, 1, 1, 1, 1, 0, 0, 1, 1, 0, 0, 0, 0, 0, 0, 0, 0, 0, 0, 1, 0, 1, 1, 1, 1, 0, 1, 1, 0, 0, 0, 0, 1, 1, 1, 1, 0]\n",
      "[0, 0, 0, 1, 1, 0, 0, 0, 0, 0, 0, 1, 0, 1, 1, 1, 0, 1, 1, 1, 0, 0, 0, 1, 0, 0, 1, 1, 0, 1, 1, 0, 1, 0, 1, 1, 0, 1, 0, 1, 0, 0, 0, 0, 0, 1, 1, 1, 0, 1, 1, 1, 1, 1, 1, 1, 1, 0, 0, 1, 1, 0, 0, 0, 0, 0, 0, 0, 0, 0, 0, 1, 0, 1, 1, 1, 1, 0, 1, 1, 0, 0, 0, 0, 1, 1, 1, 1, 0, 1, 1, 1, 0, 0, 1, 0, 0, 1, 1, 0, 1, 0, 1, 1, 1] 105\n"
     ]
    }
   ],
   "source": [
    "def L89(N):\n",
    "    d = gen_bits(89)\n",
    "    print(d)\n",
    "    for i in range(89, 89 + N): \n",
    "        x = d[i-38] ^ d [i-89]\n",
    "        d.append(x)\n",
    "    return d\n",
    "\n",
    "l89 = L89(16)\n",
    "print(l89, len(l89))"
   ]
  },
  {
   "cell_type": "markdown",
   "metadata": {},
   "source": [
    "6. Генератор Джиффі"
   ]
  },
  {
   "cell_type": "code",
   "execution_count": 176,
   "metadata": {},
   "outputs": [
    {
     "name": "stdout",
     "output_type": "stream",
     "text": [
      "[0, 1, 1, 1, 1, 1, 0, 0, 0, 0, 1, 1, 0, 0, 1, 1, 0, 0] 18\n"
     ]
    }
   ],
   "source": [
    "def L11(n):\n",
    "    d1 = np.random.randint(0, 2, 10)\n",
    "    d = d1.tolist()\n",
    "    for i in range(11, n+1): \n",
    "        x = d[i-11] ^ d [i-9]\n",
    "        d.append(x)\n",
    "    return d\n",
    "\n",
    "def L9(n):\n",
    "    d1 = np.random.randint(0, 2, 8)\n",
    "    d = d1.tolist()\n",
    "    for i in range(9, n+1): \n",
    "        x = d[i-9] ^ d [i-8] ^ d[i-6] ^ d[i-5]\n",
    "        d.append(x)\n",
    "    return d\n",
    "\n",
    "def L10(n):\n",
    "    d1 = np.random.randint(0, 2, 9)\n",
    "    d = d1.tolist()\n",
    "    for i in range(10, n+1): \n",
    "        #print(len(d))\n",
    "        x = d[i-10] ^ d [i-7]\n",
    "        d.append(x)\n",
    "    return d\n",
    "\n",
    "def Geffe(n):\n",
    "    d = []\n",
    "    l11 = L11(n)\n",
    "    l9 = L9(n)\n",
    "    l10 = L10(n)\n",
    "    #print(len(l11),len(l9),len(l10))\n",
    "    for i in range(0,n):\n",
    "        x = l11[i]\n",
    "        y = l9[i]\n",
    "        s = l10[i]\n",
    "        #z = (s * x) ^ ((1 ^ s) * y)\n",
    "        if s == 1: z = x\n",
    "        elif s == 0: z = y\n",
    "        else: print('error, s = ', s)\n",
    "        d.append(z)\n",
    "    return d\n",
    "\n",
    "print(Geffe(18), len(Geffe(18)))"
   ]
  },
  {
   "cell_type": "markdown",
   "metadata": {},
   "source": [
    "7. Генератор Вольфрама"
   ]
  },
  {
   "cell_type": "code",
   "execution_count": 177,
   "metadata": {},
   "outputs": [
    {
     "name": "stdout",
     "output_type": "stream",
     "text": [
      "[0, 1, 0, 0, 1, 1, 0, 0, 1, 0, 0, 1, 1, 1, 0, 0, 1, 1, 1, 1]\n"
     ]
    }
   ],
   "source": [
    "def Wolfram(N):\n",
    "    r = gen_bits(32)\n",
    "    res = []\n",
    "    for i in range(N):\n",
    "        x_i = r[-1]\n",
    "        r = np.roll(r, -1) ^ (r | np.roll(r, 1)) \n",
    "        res.append(x_i)\n",
    "    return res\n",
    "\n",
    "wolfram = Wolfram(20)\n",
    "print(wolfram)"
   ]
  },
  {
   "cell_type": "markdown",
   "metadata": {},
   "source": [
    "8. Генератор \"Бібліотекар\""
   ]
  },
  {
   "cell_type": "code",
   "execution_count": 188,
   "metadata": {},
   "outputs": [
    {
     "name": "stdout",
     "output_type": "stream",
     "text": [
      "[1, 1, 0, 1, 0, 0, 0, 0]\n",
      "[1, 0, 0, 1, 0, 1, 0, 1]\n",
      "[1, 1, 0, 1, 0, 0, 0, 1]\n",
      "[1, 0, 0, 0, 1, 0, 0, 1]\n",
      "[1, 1, 0, 1, 0, 0, 0, 0]\n",
      "[1, 0, 1, 1, 0, 1, 0, 1]\n",
      "[0, 0, 1, 0, 0, 0, 0, 0]\n",
      "[1, 1, 0, 1, 0, 0, 0, 0]\n",
      "[1, 0, 1, 1, 1, 1, 1, 0]\n",
      "[1, 1, 0, 1, 0, 0, 0, 0]\n",
      "[1, 0, 1, 1, 0, 1, 0, 0]\n",
      "[1, 1, 0, 1, 0, 0, 0, 0]\n",
      "[1, 0, 1, 1, 1, 1, 0, 1]\n",
      "[1, 1, 0, 1, 0, 0, 0, 0]\n",
      "[1, 0, 1, 1, 1, 1, 1, 0]\n",
      "[1, 1, 0, 1, 0, 0, 0, 0]\n",
      "[1, 0, 1, 1, 0, 0, 1, 1]\n",
      "[1, 1, 0, 1, 0, 0, 0, 0]\n",
      "[1, 0, 1, 1, 1, 1, 1, 0]\n",
      "[0, 0, 1, 0, 0, 0, 0, 0]\n",
      "[1, 1, 0, 1, 0, 0, 0, 0]\n",
      "[1, 0, 1, 1, 0, 0, 1, 1]\n",
      "[1, 1, 0, 1, 0, 0, 0, 0]\n",
      "[1, 0, 1, 1, 0, 1, 0, 1]\n",
      "[1, 1, 0, 1, 0, 0, 0, 1]\n",
      "[1, 0, 0, 0, 0, 0, 0, 0]\n",
      "[1, 1, 0, 1, 0, 0, 0, 0]\n",
      "[1, 0, 1, 1, 1, 1, 1, 0]\n",
      "[1, 1, 0, 1, 0, 0, 0, 1]\n",
      "[1, 0, 0, 0, 1, 1, 1, 1]\n",
      "[0, 0, 1, 0, 0, 0, 0, 0]\n",
      "[1, 1, 0, 1, 0, 0, 0, 0]\n",
      "[1, 0, 1, 1, 0, 1, 0, 0]\n",
      "[1, 1, 0, 1, 0, 0, 0, 0]\n",
      "[1, 0, 1, 1, 1, 1, 1, 0]\n",
      "[1, 1, 0, 1, 0, 0, 0, 0]\n",
      "[1, 0, 1, 1, 1, 0, 1, 1]\n",
      "[1, 1, 0, 1, 0, 0, 0, 0]\n",
      "[1, 0, 1, 1, 0, 1, 1, 0]\n",
      "[1, 1, 0, 1, 0, 0, 0, 0]\n",
      "[1, 0, 1, 1, 1, 1, 0, 1]\n",
      "[1, 1, 0, 1, 0, 0, 0, 1]\n",
      "[1, 0, 0, 0, 1, 0, 1, 1]\n",
      "[0, 0, 1, 0, 0, 0, 0, 0]\n",
      "[1, 1, 0, 1, 0, 0, 0, 0]\n",
      "[1, 0, 1, 1, 0, 0, 0, 1]\n",
      "[1, 1, 0, 1, 0, 0, 0, 1]\n",
      "[1, 0, 0, 0, 1, 0, 1, 1]\n",
      "[1, 1, 0, 1, 0, 0, 0, 0]\n",
      "[1, 0, 1, 1, 1, 0, 1, 1]\n"
     ]
    }
   ],
   "source": [
    "def librarian():\n",
    "    f = open(r'achilles.txt', 'r', encoding='utf8', errors='ignore')\n",
    "    text = f.read()\n",
    "    f.close()\n",
    "    b = text.encode('utf-8')\n",
    "    gen_nums = []\n",
    "    for i in range(0,len(b)): gen_nums.append(conv_to_list(b[i],8))\n",
    "    return gen_nums\n",
    "\n",
    "display(librarian()[:50])"
   ]
  },
  {
   "cell_type": "markdown",
   "metadata": {},
   "source": [
    "9. Генератор Блюма-Мікалі (BM)"
   ]
  },
  {
   "cell_type": "code",
   "execution_count": 179,
   "metadata": {},
   "outputs": [
    {
     "name": "stdout",
     "output_type": "stream",
     "text": [
      "[0, 0, 0, 0, 1, 1, 1, 1, 1, 1, 0, 0, 1, 1, 0, 1, 0, 1, 1, 1]\n"
     ]
    }
   ],
   "source": [
    "P = \"CEA42B987C44FA642D80AD9F51F10457690DEF10C83D0BC1BCEE12FC3B6093E3\"\n",
    "A = \"5B88C41246790891C095E2878880342E88C79974303BD0400B090FE38A688356\"\n",
    "Q = \"675215CC3E227D3216C056CFA8F8822BB486F788641E85E0DE77097E1DB049F1\"\n",
    "\n",
    "def BM(N):\n",
    "    p = hex_to_int(P)\n",
    "    a = hex_to_int(A)\n",
    "    q = hex_to_int(Q)\n",
    "    T = random.randint(0,p-1)\n",
    "    res = []\n",
    "    for i in range(N):\n",
    "        if T < gmpy2.c_div(p-1, 2):\n",
    "            x = 1\n",
    "        else:\n",
    "            x = 0\n",
    "        res.append(x)\n",
    "        T = gmpy2.powmod(a,T,p)\n",
    "    return res\n",
    "\n",
    "blum_micali = BM(20)\n",
    "print(blum_micali)"
   ]
  },
  {
   "cell_type": "markdown",
   "metadata": {},
   "source": [
    "10. Генератор BM_bytes (байтовий)"
   ]
  },
  {
   "cell_type": "code",
   "execution_count": 185,
   "metadata": {},
   "outputs": [
    {
     "name": "stdout",
     "output_type": "stream",
     "text": [
      "[1, 1, 0, 0, 1, 0, 1, 1]\n",
      "[1, 0, 1, 1, 0, 1, 1, 1]\n",
      "[1, 0, 1, 0, 1, 0, 0, 0]\n",
      "[1, 1, 0, 1, 1, 1, 1, 0]\n",
      "[1, 0, 0, 1, 1, 0, 0, 0]\n",
      "[0, 0, 0, 1, 0, 0, 1, 1]\n",
      "[1, 1, 0, 1, 1, 0, 0, 0]\n",
      "[1, 1, 0, 0, 0, 1, 0, 0]\n",
      "[0, 1, 0, 1, 0, 1, 0, 1]\n",
      "[1, 1, 0, 0, 1, 1, 0, 0]\n"
     ]
    }
   ],
   "source": [
    "P = \"CEA42B987C44FA642D80AD9F51F10457690DEF10C83D0BC1BCEE12FC3B6093E3\"\n",
    "A = \"5B88C41246790891C095E2878880342E88C79974303BD0400B090FE38A688356\"\n",
    "Q = \"675215CC3E227D3216C056CFA8F8822BB486F788641E85E0DE77097E1DB049F1\"\n",
    "\n",
    "def BM_bytes(N):\n",
    "    p = hex_to_int(P)\n",
    "    a = hex_to_int(A)\n",
    "    q = hex_to_int(Q)\n",
    "    T = random.randint(0,p-1)\n",
    "    res = []\n",
    "    for i in range(N):\n",
    "        g = gmpy2.c_div(gmpy2.mul(256,T), p-1)\n",
    "        for k in range(g-1, g):\n",
    "            if k < g and k >= g-1:\n",
    "                x = conv_to_list(k, 8)\n",
    "                res.append(x)\n",
    "                break\n",
    "        T = gmpy2.powmod(a,T,p)\n",
    "    return res\n",
    "\n",
    "bm_bytes = BM_bytes(10)\n",
    "display(bm_bytes)"
   ]
  },
  {
   "cell_type": "markdown",
   "metadata": {},
   "source": [
    "11. Генератор BBS (бітовий)"
   ]
  },
  {
   "cell_type": "code",
   "execution_count": 181,
   "metadata": {},
   "outputs": [
    {
     "name": "stdout",
     "output_type": "stream",
     "text": [
      "[0, 1, 1, 1, 0, 0, 0, 1, 1, 0, 0, 1, 1, 0, 0, 0, 0, 0, 1]\n"
     ]
    }
   ],
   "source": [
    "p = 'D5BBB96D30086EC484EBA3D7F9CAEB07'\n",
    "q = '425D2B9BFDB25B9CF6C416CC6E37B59C1F'\n",
    "n = int(p,16) * int(q,16)\n",
    "\n",
    "def BBS_bin(N):\n",
    "    \n",
    "    r = [randint(0,n)]\n",
    "    x = []\n",
    "    for i in range (1,N):\n",
    "        R = (r[i-1] ** 2) % n\n",
    "        r.append(R)\n",
    "        x.append(R % 2)\n",
    "    return x\n",
    "    \n",
    "    \n",
    "x = BBS_bin(20)\n",
    "print(x)"
   ]
  },
  {
   "cell_type": "markdown",
   "metadata": {},
   "source": [
    "12. Генератор BBS (байтовий)"
   ]
  },
  {
   "cell_type": "code",
   "execution_count": 184,
   "metadata": {},
   "outputs": [
    {
     "name": "stdout",
     "output_type": "stream",
     "text": [
      "[1, 0, 1, 1, 0, 0, 1, 1]\n",
      "[0, 1, 1, 0, 1, 1, 0, 1]\n",
      "[0, 0, 0, 0, 0, 0, 0, 0]\n",
      "[0, 1, 1, 0, 0, 0, 1, 1]\n",
      "[1, 0, 0, 0, 0, 1, 0, 1]\n",
      "[1, 0, 1, 1, 0, 1, 1, 1]\n",
      "[0, 0, 0, 1, 1, 0, 0, 1]\n",
      "[1, 0, 0, 0, 1, 1, 0, 1]\n",
      "[1, 1, 0, 1, 0, 0, 1, 1]\n",
      "[0, 0, 1, 0, 1, 1, 0, 0]\n",
      "[1, 0, 0, 1, 0, 1, 1, 1]\n",
      "[1, 1, 0, 1, 1, 0, 1, 1]\n",
      "[1, 1, 0, 0, 1, 1, 0, 1]\n",
      "[1, 0, 0, 0, 1, 1, 0, 0]\n",
      "[1, 0, 0, 1, 0, 0, 1, 1]\n",
      "[0, 1, 0, 1, 0, 0, 1, 0]\n",
      "[0, 1, 1, 1, 0, 1, 0, 1]\n",
      "[0, 1, 1, 1, 0, 0, 0, 1]\n",
      "[1, 0, 0, 0, 1, 0, 0, 0]\n"
     ]
    }
   ],
   "source": [
    "def BBS_b(N):\n",
    "    \n",
    "    r = [randint(0,n)]\n",
    "    x = []\n",
    "    for i in range (1,N):\n",
    "        R = (r[i-1] ** 2) % n\n",
    "        r.append(R)\n",
    "        x.append(conv_to_list(R % 256, 8))\n",
    "    return x\n",
    "    \n",
    "x = BBS_b(20)\n",
    "display(x)"
   ]
  },
  {
   "cell_type": "code",
   "execution_count": null,
   "metadata": {},
   "outputs": [],
   "source": []
  }
 ],
 "metadata": {
  "kernelspec": {
   "display_name": "Python 3",
   "language": "python",
   "name": "python3"
  },
  "language_info": {
   "codemirror_mode": {
    "name": "ipython",
    "version": 3
   },
   "file_extension": ".py",
   "mimetype": "text/x-python",
   "name": "python",
   "nbconvert_exporter": "python",
   "pygments_lexer": "ipython3",
   "version": "3.8.3"
  }
 },
 "nbformat": 4,
 "nbformat_minor": 4
}
