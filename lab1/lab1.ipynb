{
 "cells": [
  {
   "cell_type": "code",
   "execution_count": 179,
   "metadata": {},
   "outputs": [],
   "source": [
    "import numpy as np\n",
    "import random\n",
    "from random import randint\n",
    "import gmpy2\n",
    "from scipy.stats import chi2\n",
    "import math\n",
    "import time"
   ]
  },
  {
   "cell_type": "markdown",
   "metadata": {},
   "source": [
    "Допоміжні ф-ї"
   ]
  },
  {
   "cell_type": "code",
   "execution_count": 180,
   "metadata": {},
   "outputs": [],
   "source": [
    "def conv_to_list(n, t):\n",
    "    num = [int(i) for i in bin(n)[2:]]\n",
    "    while len(num) < t:\n",
    "        num.insert(0, 0)\n",
    "    return num\n",
    "\n",
    "def display(lst):\n",
    "    for i in lst:\n",
    "        print(i)\n",
    "        \n",
    "def bin_lst_to_int(lst):\n",
    "    return int(\"\".join(str(x) for x in lst), 2)\n",
    "\n",
    "def gen_bits(N):\n",
    "    d = np.random.randint(0, 2, N).tolist()\n",
    "    d_int = bin_lst_to_int(d)\n",
    "    if d_int == 0: #check if all elements in d are 0\n",
    "        while d_int == 0:\n",
    "            d = np.random.randint(0, 2, N).tolist()\n",
    "            d_int = bin_lst_to_int(d)\n",
    "            print(d)\n",
    "    return d\n",
    "\n",
    "def hex_to_list(hex, b):\n",
    "    n = int(hex, 16)\n",
    "    number = []\n",
    "    while n > 0:\n",
    "        number.insert(0, n % b)  # take remainder of division and add it leftmost of the array\n",
    "        n = n // b\n",
    "    return number\n",
    "\n",
    "def hex_to_int(hex):\n",
    "    return bin_lst_to_int(hex_to_list(hex, 2))\n",
    "\n",
    "def bits_to_bytes(lst): # конвертує згенеровану бітову посл-ть в байтову\n",
    "    res = []\n",
    "    chunks = [lst[i:i + 8] for i in range(0, len(lst), 8)] \n",
    "    for item in chunks:\n",
    "        res.append(bin_lst_to_int(item))\n",
    "    return res"
   ]
  },
  {
   "cell_type": "markdown",
   "metadata": {},
   "source": [
    "1. Вбудований генератор псевдовипадкових чисел"
   ]
  },
  {
   "cell_type": "code",
   "execution_count": 300,
   "metadata": {},
   "outputs": [],
   "source": [
    "def rand(N):\n",
    "    random.seed()\n",
    "    res = []\n",
    "    for i in range(0,N):\n",
    "        if i%25000 == 0: print(i)\n",
    "        num = randint(0, 255)\n",
    "        res.append(num)\n",
    "    return res"
   ]
  },
  {
   "cell_type": "markdown",
   "metadata": {},
   "source": [
    "2. Генератор LehmerLow"
   ]
  },
  {
   "cell_type": "code",
   "execution_count": 299,
   "metadata": {},
   "outputs": [],
   "source": [
    "m = 2**32\n",
    "a = 2**16 + 1\n",
    "c = 119\n",
    "\n",
    "def LehmerLow(N):\n",
    "    prev = np.random.randint(0,2**31) \n",
    "    res = []\n",
    "    for i in range(N):\n",
    "        if i%25000 == 0: print(i)\n",
    "        x_i = (a * prev + c)%m\n",
    "        res_i = conv_to_list(x_i, 32)[-8:]\n",
    "        res_i = bin_lst_to_int(res_i)\n",
    "        res.append(res_i)\n",
    "        prev = x_i\n",
    "    return res    "
   ]
  },
  {
   "cell_type": "markdown",
   "metadata": {},
   "source": [
    "3. Генератор LehmerHigh"
   ]
  },
  {
   "cell_type": "code",
   "execution_count": 298,
   "metadata": {},
   "outputs": [],
   "source": [
    "m = 2**32\n",
    "a = 2**16 + 1\n",
    "c = 119\n",
    "\n",
    "def LehmerHigh(N):\n",
    "    prev = np.random.randint(0,2**31) \n",
    "    res = []\n",
    "    for i in range(N):\n",
    "        if i%25000 == 0: print(i)\n",
    "        x_i = (a * prev + c)%m\n",
    "        res_i = conv_to_list(x_i, 32)[:8]\n",
    "        res_i = bin_lst_to_int(res_i)\n",
    "        res.append(res_i)\n",
    "        prev = x_i\n",
    "    return res    "
   ]
  },
  {
   "cell_type": "markdown",
   "metadata": {},
   "source": [
    "4. Генератор псевдовипадкових двійкових послідовностей L20"
   ]
  },
  {
   "cell_type": "code",
   "execution_count": 297,
   "metadata": {},
   "outputs": [],
   "source": [
    "def L20(N):\n",
    "    d1 = np.random.randint(0, 2, 20)\n",
    "    d = d1.tolist()\n",
    "    for i in range(20, 20 + N): \n",
    "        if i%200000 == 0: print(i)\n",
    "        x = d[i-3] ^ d [i-5] ^ d[i-9] ^ d[i-20]\n",
    "        d.append(x)  \n",
    "    return d"
   ]
  },
  {
   "cell_type": "markdown",
   "metadata": {},
   "source": [
    "5. Генератор псевдовипадкових двійкових послідовностей L89"
   ]
  },
  {
   "cell_type": "code",
   "execution_count": 296,
   "metadata": {},
   "outputs": [],
   "source": [
    "def L89(N):\n",
    "    d = gen_bits(89)\n",
    "    for i in range(89, 89 + N): \n",
    "        if i%100000 == 0: print(i)\n",
    "        x = d[i-38] ^ d [i-89]\n",
    "        d.append(x)\n",
    "    return d"
   ]
  },
  {
   "cell_type": "markdown",
   "metadata": {},
   "source": [
    "6. Генератор Джиффі"
   ]
  },
  {
   "cell_type": "code",
   "execution_count": 295,
   "metadata": {},
   "outputs": [],
   "source": [
    "def L11(n):\n",
    "    d1 = np.random.randint(0, 2, 11)\n",
    "    d = d1.tolist()\n",
    "    for i in range(11, n+1): \n",
    "        x = d[i-11] ^ d [i-9]\n",
    "        d.append(x)\n",
    "    return d\n",
    "\n",
    "def L9(n):\n",
    "    d1 = np.random.randint(0, 2, 9)\n",
    "    d = d1.tolist()\n",
    "    for i in range(9, n+1): \n",
    "        x = d[i-9] ^ d [i-8] ^ d[i-6] ^ d[i-5]\n",
    "        d.append(x)\n",
    "    return d\n",
    "\n",
    "def L10(n):\n",
    "    d1 = np.random.randint(0, 2, 10)\n",
    "    d = d1.tolist()\n",
    "    for i in range(10, n+1): \n",
    "        x = d[i-10] ^ d [i-7]\n",
    "        d.append(x)\n",
    "    return d\n",
    "\n",
    "def Geffe(n):\n",
    "    d = []\n",
    "    l11 = L11(n)\n",
    "    l9 = L9(n)\n",
    "    l10 = L10(n)\n",
    "    for i in range(0,n):\n",
    "        if i%100000 == 0: print(i)\n",
    "        x = l11[i]\n",
    "        y = l9[i]\n",
    "        s = l10[i]\n",
    "        #z = (s * x) ^ ((1 ^ s) * y)\n",
    "        if s == 1: z = x\n",
    "        elif s == 0: z = y\n",
    "        else: print('error, s = ', s)\n",
    "        d.append(z)\n",
    "    return d"
   ]
  },
  {
   "cell_type": "markdown",
   "metadata": {},
   "source": [
    "7. Генератор Вольфрама"
   ]
  },
  {
   "cell_type": "code",
   "execution_count": 294,
   "metadata": {},
   "outputs": [],
   "source": [
    "def Wolfram(N):\n",
    "    r = gen_bits(32)\n",
    "    res = []\n",
    "    for i in range(N):\n",
    "        if i%100000 == 0: print(i)\n",
    "        x_i = r[-1]\n",
    "        r = np.roll(r, -1) ^ (r | np.roll(r, 1)) \n",
    "        res.append(x_i)\n",
    "    return res"
   ]
  },
  {
   "cell_type": "markdown",
   "metadata": {},
   "source": [
    "8. Генератор \"Бібліотекар\""
   ]
  },
  {
   "cell_type": "code",
   "execution_count": 293,
   "metadata": {},
   "outputs": [],
   "source": [
    "def Librarian():\n",
    "    f = open(r'The_Goldfinch_ru1.txt', 'r', encoding='utf8', errors='ignore')\n",
    "    text = f.read()\n",
    "    f.close()\n",
    "    b = text.encode('utf-8')\n",
    "    gen_nums = []\n",
    "    for i in range(0,len(b)): gen_nums.append(b[i])\n",
    "    return gen_nums"
   ]
  },
  {
   "cell_type": "markdown",
   "metadata": {},
   "source": [
    "9. Генератор Блюма-Мікалі (BM)"
   ]
  },
  {
   "cell_type": "code",
   "execution_count": 292,
   "metadata": {},
   "outputs": [],
   "source": [
    "P = \"CEA42B987C44FA642D80AD9F51F10457690DEF10C83D0BC1BCEE12FC3B6093E3\"\n",
    "A = \"5B88C41246790891C095E2878880342E88C79974303BD0400B090FE38A688356\"\n",
    "Q = \"675215CC3E227D3216C056CFA8F8822BB486F788641E85E0DE77097E1DB049F1\"\n",
    "\n",
    "def BM(N):\n",
    "    p = hex_to_int(P)\n",
    "    a = hex_to_int(A)\n",
    "    q = hex_to_int(Q)\n",
    "    T = random.randint(0,p-1)\n",
    "    res = []\n",
    "    for i in range(N):\n",
    "        if i%100000 == 0: print(i)\n",
    "        if T < gmpy2.c_div(p-1, 2):\n",
    "            x = 1\n",
    "        else:\n",
    "            x = 0\n",
    "        res.append(x)\n",
    "        T = gmpy2.powmod(a,T,p)\n",
    "    return res"
   ]
  },
  {
   "cell_type": "markdown",
   "metadata": {},
   "source": [
    "10. Генератор BM_bytes (байтовий)"
   ]
  },
  {
   "cell_type": "code",
   "execution_count": 291,
   "metadata": {},
   "outputs": [],
   "source": [
    "P = \"CEA42B987C44FA642D80AD9F51F10457690DEF10C83D0BC1BCEE12FC3B6093E3\"\n",
    "A = \"5B88C41246790891C095E2878880342E88C79974303BD0400B090FE38A688356\"\n",
    "Q = \"675215CC3E227D3216C056CFA8F8822BB486F788641E85E0DE77097E1DB049F1\"\n",
    "\n",
    "def BM_bytes(N):\n",
    "    p = hex_to_int(P)\n",
    "    a = hex_to_int(A)\n",
    "    q = hex_to_int(Q)\n",
    "    T = random.randint(0,p-1)\n",
    "    res = []\n",
    "    for i in range(N):\n",
    "        if i%25000 == 0: print(i)\n",
    "        g = gmpy2.c_div(gmpy2.mul(256,T), p-1)\n",
    "        for k in range(g-1, g):\n",
    "            if k < g and k >= g-1:\n",
    "                res.append(k)\n",
    "                break\n",
    "        T = gmpy2.powmod(a,T,p)\n",
    "    return res"
   ]
  },
  {
   "cell_type": "markdown",
   "metadata": {},
   "source": [
    "11. Генератор BBS (бітовий)"
   ]
  },
  {
   "cell_type": "code",
   "execution_count": 288,
   "metadata": {},
   "outputs": [],
   "source": [
    "p = 'D5BBB96D30086EC484EBA3D7F9CAEB07'\n",
    "q = '425D2B9BFDB25B9CF6C416CC6E37B59C1F'\n",
    "n = int(p,16) * int(q,16)\n",
    "\n",
    "def BBS_bin(N):\n",
    "    \n",
    "    r = [randint(0,n)]\n",
    "    x = []\n",
    "    for i in range (1,N):\n",
    "        if i%100000 == 0: print(i)\n",
    "        R = (r[i-1] ** 2) % n\n",
    "        r.append(R)\n",
    "        x.append(R % 2)\n",
    "    return x"
   ]
  },
  {
   "cell_type": "markdown",
   "metadata": {},
   "source": [
    "12. Генератор BBS (байтовий)"
   ]
  },
  {
   "cell_type": "code",
   "execution_count": 301,
   "metadata": {},
   "outputs": [],
   "source": [
    "def BBS_b(N):\n",
    "    \n",
    "    r = [randint(0,n)]\n",
    "    x = []\n",
    "    for i in range (1,N):\n",
    "        if i%25000 == 0: print(i)\n",
    "        R = (r[i-1] ** 2) % n\n",
    "        r.append(R)\n",
    "        x.append(R % 256)\n",
    "    return x"
   ]
  },
  {
   "cell_type": "markdown",
   "metadata": {},
   "source": [
    "## Тести"
   ]
  },
  {
   "cell_type": "code",
   "execution_count": 193,
   "metadata": {},
   "outputs": [],
   "source": [
    "alphas = [0.01, 0.05, 0.1]\n",
    "quantiles = [2.326347874, 1.644853627, 1.281551566]\n",
    "\n",
    "def hi2_check(hi,l):\n",
    "    print(\"hi^2=\", hi)\n",
    "    for i in range (0,3):\n",
    "        hi_lim = math.sqrt(2*l) * quantiles[i] + l\n",
    "        print(f\"hi^2 (1-{alphas[i]})=\", hi_lim)\n",
    "        if hi <= hi_lim: \n",
    "            print('Test passed for alpha = ', alphas[i])\n",
    "        else: \n",
    "            print('Test failed for alpha = ', alphas[i])"
   ]
  },
  {
   "cell_type": "markdown",
   "metadata": {},
   "source": [
    " Рівноймовірність:"
   ]
  },
  {
   "cell_type": "code",
   "execution_count": 194,
   "metadata": {},
   "outputs": [],
   "source": [
    "def eq_prob(lst):\n",
    "    i = 0\n",
    "    freqs = []\n",
    "    n = len(lst)\n",
    "    for i in range (0,256):\n",
    "        count = 0\n",
    "        for j in range (0,n): \n",
    "            if lst[j] == i: count = count+1\n",
    "        freqs.append(count)\n",
    "    n_j = n/256\n",
    "    hi_2 = 0\n",
    "    for i in range(0,256): hi_2 = hi_2 + ((freqs[i]-n_j) ** 2) / n_j\n",
    "    hi2_check(hi_2,255)"
   ]
  },
  {
   "cell_type": "markdown",
   "metadata": {},
   "source": [
    "Незалежність"
   ]
  },
  {
   "cell_type": "code",
   "execution_count": 204,
   "metadata": {},
   "outputs": [],
   "source": [
    "def independence(lst):\n",
    "    n = len(lst)//2\n",
    "    pairs = [(lst[2*i],lst[2*i+1]) for i in range (0,n)]\n",
    "    pairs_dict = dict()\n",
    "    pairs_unique = list(set(pairs))\n",
    "    for item in pairs_unique:\n",
    "        num = pairs.count(item)\n",
    "        pairs_dict.update({item: num})\n",
    "    freqs = np.zeros((256, 256))\n",
    "    for item in pairs_dict:\n",
    "        freqs[item[0]][item[1]] = pairs_dict[item]\n",
    "    \n",
    "    sum_1 = [] # сколько раз i-й на 1 месте\n",
    "    for i in range (0,256):\n",
    "        sum_1.append(sum(freqs[i][j] for j in range(0,255)))\n",
    "    sum_2 = [] # сколько раз j-й на 2 месте\n",
    "    for j in range (0,256):\n",
    "        sum_2.append(sum(freqs[i][j] for i in range(0,255)))\n",
    "    \n",
    "    hi_2 = 0\n",
    "    for i in range(0,256):\n",
    "        for j in range(0,256):\n",
    "            if sum_1[i] * sum_2[j] != 0: hi_2 = hi_2 + (freqs[i][j]** 2)/ (sum_1[i] * sum_2[j])     \n",
    "    hi_2 = n * (hi_2-1)\n",
    "    hi2_check(hi_2,255 ** 2)"
   ]
  },
  {
   "cell_type": "markdown",
   "metadata": {},
   "source": [
    "Однорідність:"
   ]
  },
  {
   "cell_type": "code",
   "execution_count": 209,
   "metadata": {},
   "outputs": [],
   "source": [
    "def homogeneity(lst):\n",
    "    m = len(lst)\n",
    "    r = int(math.log(m, 2))\n",
    "    print(\"m=\",m, \"r=\",r)\n",
    "    m1 = m // r\n",
    "    n = m1 * r\n",
    "    \n",
    "    chunks = [lst[i:i + m1] for i in range(0, n, m1)] \n",
    "    \n",
    "    appear = np.zeros((256, r)) # к-ть появ і_го байта в j_му відрізку\n",
    "    for i in range(256):\n",
    "        for j in range(r):\n",
    "            appear[i][j] = chunks[j].count(i)\n",
    "    \n",
    "    sum_1 = []\n",
    "    for i in range(256):\n",
    "        v_i = np.sum(appear[i])\n",
    "        sum_1.append(v_i)\n",
    "        \n",
    " \n",
    "    al_j = m1\n",
    "    \n",
    "    hi_2 = 0\n",
    "    for i in range(256):\n",
    "        for j in range(r):\n",
    "            if sum_1[i] != 0:\n",
    "                hi_2 = hi_2 + (appear[i][j] ** 2)/(sum_1[i] * al_j)\n",
    "    hi_2 = n * (hi_2-1)\n",
    "    hi2_check(hi_2, 255 * (r - 1))   "
   ]
  },
  {
   "cell_type": "code",
   "execution_count": 200,
   "metadata": {},
   "outputs": [],
   "source": [
    "def three_tests(lst):\n",
    "    print(\"---- TEST 1 ------\")\n",
    "    eq_prob(lst)\n",
    "    print(\"---- TEST 2 ------\")\n",
    "    independence(lst)\n",
    "    print(\"---- TEST 3 ------\")\n",
    "    homogeneity(lst)"
   ]
  },
  {
   "cell_type": "markdown",
   "metadata": {},
   "source": [
    "## Застосування тестів"
   ]
  },
  {
   "cell_type": "code",
   "execution_count": 303,
   "metadata": {},
   "outputs": [],
   "source": [
    "def to_file(lst,name): #ф-я щоб записати згенеровану посл-ть у файл\n",
    "    file = open(f\"{name}.txt\", \"w\")\n",
    "    for element in lst:\n",
    "        file.write(str(element) + \",\")\n",
    "    file.close()\n",
    "    \n",
    "def from_file(filename): #ф-я щоб дістати з файлу (не знадобилось)\n",
    "    f = open(filename, \"r\")\n",
    "    content = f.read()\n",
    "    lst = content.split(\",\")\n",
    "    f.close()"
   ]
  },
  {
   "cell_type": "code",
   "execution_count": 305,
   "metadata": {},
   "outputs": [],
   "source": [
    "n = 125000  #для байтових генераторів\n",
    "m = 1000000 #для бітових генераторів"
   ]
  },
  {
   "cell_type": "code",
   "execution_count": 306,
   "metadata": {},
   "outputs": [
    {
     "name": "stdout",
     "output_type": "stream",
     "text": [
      "0\n",
      "25000\n",
      "50000\n",
      "75000\n",
      "100000\n",
      "python_gen time = 0.1958169937133789\n",
      "Вбудований генератор псевдовипадкових чисел:\n",
      "---- TEST 1 ------\n",
      "hi^2= 245.30483200000015\n",
      "hi^2 (1-0.01)= 307.53633180705333\n",
      "Test passed for alpha =  0.01\n",
      "hi^2 (1-0.05)= 292.1460248434483\n",
      "Test passed for alpha =  0.05\n",
      "hi^2 (1-0.1)= 283.9415091576389\n",
      "Test passed for alpha =  0.1\n",
      "---- TEST 2 ------\n",
      "hi^2= 65334.34331198118\n",
      "hi^2 (1-0.01)= 65863.9379421232\n",
      "Test passed for alpha =  0.01\n",
      "hi^2 (1-0.05)= 65618.1744483926\n",
      "Test passed for alpha =  0.05\n",
      "hi^2 (1-0.1)= 65487.158839407006\n",
      "Test passed for alpha =  0.1\n",
      "---- TEST 3 ------\n",
      "m= 125000 r= 16\n",
      "hi^2= 3919.281328193674\n",
      "hi^2 (1-0.01)= 4028.4723381595445\n",
      "Test passed for alpha =  0.01\n",
      "hi^2 (1-0.05)= 3968.8659355964824\n",
      "Test passed for alpha =  0.05\n",
      "hi^2 (1-0.1)= 3937.089982981645\n",
      "Test passed for alpha =  0.1\n"
     ]
    }
   ],
   "source": [
    "start = time.time()\n",
    "python_gen = rand(n)\n",
    "end = time.time()\n",
    "print(\"python_gen time =\", end - start)\n",
    "\n",
    "# to_file(python_gen, \"python_gen\")\n",
    "\n",
    "print(\"Вбудований генератор псевдовипадкових чисел:\")\n",
    "three_tests(python_gen)"
   ]
  },
  {
   "cell_type": "code",
   "execution_count": 307,
   "metadata": {},
   "outputs": [
    {
     "name": "stdout",
     "output_type": "stream",
     "text": [
      "0\n",
      "25000\n",
      "50000\n",
      "75000\n",
      "100000\n",
      "lehmer_low time = 1.4129748344421387\n",
      "генератор LehmerLow:\n",
      "---- TEST 1 ------\n",
      "hi^2= 85.05702400000001\n",
      "hi^2 (1-0.01)= 307.53633180705333\n",
      "Test passed for alpha =  0.01\n",
      "hi^2 (1-0.05)= 292.1460248434483\n",
      "Test passed for alpha =  0.05\n",
      "hi^2 (1-0.1)= 283.9415091576389\n",
      "Test passed for alpha =  0.1\n",
      "---- TEST 2 ------\n",
      "hi^2= 1961284.7414280763\n",
      "hi^2 (1-0.01)= 65863.9379421232\n",
      "Test failed for alpha =  0.01\n",
      "hi^2 (1-0.05)= 65618.1744483926\n",
      "Test failed for alpha =  0.05\n",
      "hi^2 (1-0.1)= 65487.158839407006\n",
      "Test failed for alpha =  0.1\n",
      "---- TEST 3 ------\n",
      "m= 125000 r= 16\n",
      "hi^2= 3016.7168653813765\n",
      "hi^2 (1-0.01)= 4028.4723381595445\n",
      "Test passed for alpha =  0.01\n",
      "hi^2 (1-0.05)= 3968.8659355964824\n",
      "Test passed for alpha =  0.05\n",
      "hi^2 (1-0.1)= 3937.089982981645\n",
      "Test passed for alpha =  0.1\n"
     ]
    }
   ],
   "source": [
    "start = time.time()\n",
    "lehmer_low = LehmerLow(n)\n",
    "end = time.time()\n",
    "print(\"lehmer_low time =\", end - start)\n",
    "\n",
    "# to_file(lehmer_low, \"lehmer_low\")\n",
    "\n",
    "print(\"генератор LehmerLow:\")\n",
    "three_tests(lehmer_low)"
   ]
  },
  {
   "cell_type": "code",
   "execution_count": 310,
   "metadata": {},
   "outputs": [
    {
     "name": "stdout",
     "output_type": "stream",
     "text": [
      "0\n",
      "25000\n",
      "50000\n",
      "75000\n",
      "100000\n",
      "lehmer_high time = 1.3133463859558105\n",
      "генератор LehmerHigh:\n",
      "---- TEST 1 ------\n",
      "hi^2= 31875000.0\n",
      "hi^2 (1-0.01)= 307.53633180705333\n",
      "Test failed for alpha =  0.01\n",
      "hi^2 (1-0.05)= 292.1460248434483\n",
      "Test failed for alpha =  0.05\n",
      "hi^2 (1-0.1)= 283.9415091576389\n",
      "Test failed for alpha =  0.1\n",
      "---- TEST 2 ------\n",
      "hi^2= 0.0\n",
      "hi^2 (1-0.01)= 65863.9379421232\n",
      "Test passed for alpha =  0.01\n",
      "hi^2 (1-0.05)= 65618.1744483926\n",
      "Test passed for alpha =  0.05\n",
      "hi^2 (1-0.1)= 65487.158839407006\n",
      "Test passed for alpha =  0.1\n",
      "---- TEST 3 ------\n",
      "m= 125000 r= 16\n",
      "hi^2= 0.0\n",
      "hi^2 (1-0.01)= 4028.4723381595445\n",
      "Test passed for alpha =  0.01\n",
      "hi^2 (1-0.05)= 3968.8659355964824\n",
      "Test passed for alpha =  0.05\n",
      "hi^2 (1-0.1)= 3937.089982981645\n",
      "Test passed for alpha =  0.1\n"
     ]
    }
   ],
   "source": [
    "start = time.time()\n",
    "lehmer_high = LehmerHigh(125000)\n",
    "end = time.time()\n",
    "print(\"lehmer_high time =\", end - start)\n",
    "\n",
    "# to_file(lehmer_high, \"lehmer_high\")\n",
    "\n",
    "print(\"генератор LehmerHigh:\")\n",
    "three_tests(lehmer_high)"
   ]
  },
  {
   "cell_type": "code",
   "execution_count": 311,
   "metadata": {},
   "outputs": [
    {
     "name": "stdout",
     "output_type": "stream",
     "text": [
      "200000\n",
      "400000\n",
      "600000\n",
      "800000\n",
      "1000000\n",
      "l20 time = 1.815323829650879\n",
      "Генератор L20:\n",
      "---- TEST 1 ------\n",
      "hi^2= 246.17398782429208\n",
      "hi^2 (1-0.01)= 307.53633180705333\n",
      "Test passed for alpha =  0.01\n",
      "hi^2 (1-0.05)= 292.1460248434483\n",
      "Test passed for alpha =  0.05\n",
      "hi^2 (1-0.1)= 283.9415091576389\n",
      "Test passed for alpha =  0.1\n",
      "---- TEST 2 ------\n",
      "hi^2= 62160.561591003345\n",
      "hi^2 (1-0.01)= 65863.9379421232\n",
      "Test passed for alpha =  0.01\n",
      "hi^2 (1-0.05)= 65618.1744483926\n",
      "Test passed for alpha =  0.05\n",
      "hi^2 (1-0.1)= 65487.158839407006\n",
      "Test passed for alpha =  0.1\n",
      "---- TEST 3 ------\n",
      "m= 125003 r= 16\n",
      "hi^2= 3852.106317403468\n",
      "hi^2 (1-0.01)= 4028.4723381595445\n",
      "Test passed for alpha =  0.01\n",
      "hi^2 (1-0.05)= 3968.8659355964824\n",
      "Test passed for alpha =  0.05\n",
      "hi^2 (1-0.1)= 3937.089982981645\n",
      "Test passed for alpha =  0.1\n"
     ]
    }
   ],
   "source": [
    "start = time.time()\n",
    "l20 = bits_to_bytes(L20(m))\n",
    "end = time.time()\n",
    "print(\"l20 time =\", end - start)\n",
    "\n",
    "# to_file(l20, \"l20\")\n",
    "\n",
    "print(\"Генератор L20:\")\n",
    "three_tests(l20)"
   ]
  },
  {
   "cell_type": "code",
   "execution_count": 312,
   "metadata": {},
   "outputs": [
    {
     "name": "stdout",
     "output_type": "stream",
     "text": [
      "100000\n",
      "200000\n",
      "300000\n",
      "400000\n",
      "500000\n",
      "600000\n",
      "700000\n",
      "800000\n",
      "900000\n",
      "1000000\n",
      "l89 time = 0.9397451877593994\n",
      "Генератор L89:\n",
      "---- TEST 1 ------\n",
      "hi^2= 263.21735513390706\n",
      "hi^2 (1-0.01)= 307.53633180705333\n",
      "Test passed for alpha =  0.01\n",
      "hi^2 (1-0.05)= 292.1460248434483\n",
      "Test passed for alpha =  0.05\n",
      "hi^2 (1-0.1)= 283.9415091576389\n",
      "Test passed for alpha =  0.1\n",
      "---- TEST 2 ------\n",
      "hi^2= 66492.45203717746\n",
      "hi^2 (1-0.01)= 65863.9379421232\n",
      "Test failed for alpha =  0.01\n",
      "hi^2 (1-0.05)= 65618.1744483926\n",
      "Test failed for alpha =  0.05\n",
      "hi^2 (1-0.1)= 65487.158839407006\n",
      "Test failed for alpha =  0.1\n",
      "---- TEST 3 ------\n",
      "m= 125012 r= 16\n",
      "hi^2= 3723.49537977719\n",
      "hi^2 (1-0.01)= 4028.4723381595445\n",
      "Test passed for alpha =  0.01\n",
      "hi^2 (1-0.05)= 3968.8659355964824\n",
      "Test passed for alpha =  0.05\n",
      "hi^2 (1-0.1)= 3937.089982981645\n",
      "Test passed for alpha =  0.1\n"
     ]
    }
   ],
   "source": [
    "start = time.time()\n",
    "l89 = bits_to_bytes(L89(m))\n",
    "end = time.time()\n",
    "print(\"l89 time =\", end - start)\n",
    "\n",
    "# to_file(l89, \"l89\")\n",
    "\n",
    "print(\"Генератор L89:\")\n",
    "three_tests(l89)"
   ]
  },
  {
   "cell_type": "code",
   "execution_count": 313,
   "metadata": {},
   "outputs": [
    {
     "name": "stdout",
     "output_type": "stream",
     "text": [
      "0\n",
      "100000\n",
      "200000\n",
      "300000\n",
      "400000\n",
      "500000\n",
      "600000\n",
      "700000\n",
      "800000\n",
      "900000\n",
      "geffe time = 2.173771381378174\n",
      "Генератор Джиффі:\n",
      "---- TEST 1 ------\n",
      "hi^2= 233.1806720000001\n",
      "hi^2 (1-0.01)= 307.53633180705333\n",
      "Test passed for alpha =  0.01\n",
      "hi^2 (1-0.05)= 292.1460248434483\n",
      "Test passed for alpha =  0.05\n",
      "hi^2 (1-0.1)= 283.9415091576389\n",
      "Test passed for alpha =  0.1\n",
      "---- TEST 2 ------\n",
      "hi^2= 73961.93883616145\n",
      "hi^2 (1-0.01)= 65863.9379421232\n",
      "Test failed for alpha =  0.01\n",
      "hi^2 (1-0.05)= 65618.1744483926\n",
      "Test failed for alpha =  0.05\n",
      "hi^2 (1-0.1)= 65487.158839407006\n",
      "Test failed for alpha =  0.1\n",
      "---- TEST 3 ------\n",
      "m= 125000 r= 16\n",
      "hi^2= 3552.471171690401\n",
      "hi^2 (1-0.01)= 4028.4723381595445\n",
      "Test passed for alpha =  0.01\n",
      "hi^2 (1-0.05)= 3968.8659355964824\n",
      "Test passed for alpha =  0.05\n",
      "hi^2 (1-0.1)= 3937.089982981645\n",
      "Test passed for alpha =  0.1\n"
     ]
    }
   ],
   "source": [
    "start = time.time()\n",
    "geffe = bits_to_bytes(Geffe(m))\n",
    "end = time.time()\n",
    "print(\"geffe time =\", end - start)\n",
    "\n",
    "# to_file(geffe, \"geffe\")\n",
    "\n",
    "print(\"Генератор Джиффі:\")\n",
    "three_tests(geffe)"
   ]
  },
  {
   "cell_type": "code",
   "execution_count": 314,
   "metadata": {},
   "outputs": [
    {
     "name": "stdout",
     "output_type": "stream",
     "text": [
      "0\n",
      "100000\n",
      "200000\n",
      "300000\n",
      "400000\n",
      "500000\n",
      "600000\n",
      "700000\n",
      "800000\n",
      "900000\n",
      "wolfram time = 43.3988618850708\n",
      "Генератор Вольфрама:\n",
      "---- TEST 1 ------\n",
      "hi^2= 269.1558400000001\n",
      "hi^2 (1-0.01)= 307.53633180705333\n",
      "Test passed for alpha =  0.01\n",
      "hi^2 (1-0.05)= 292.1460248434483\n",
      "Test passed for alpha =  0.05\n",
      "hi^2 (1-0.1)= 283.9415091576389\n",
      "Test passed for alpha =  0.1\n",
      "---- TEST 2 ------\n",
      "hi^2= 66303.73511491033\n",
      "hi^2 (1-0.01)= 65863.9379421232\n",
      "Test failed for alpha =  0.01\n",
      "hi^2 (1-0.05)= 65618.1744483926\n",
      "Test failed for alpha =  0.05\n",
      "hi^2 (1-0.1)= 65487.158839407006\n",
      "Test failed for alpha =  0.1\n",
      "---- TEST 3 ------\n",
      "m= 125000 r= 16\n",
      "hi^2= 3851.1002734807385\n",
      "hi^2 (1-0.01)= 4028.4723381595445\n",
      "Test passed for alpha =  0.01\n",
      "hi^2 (1-0.05)= 3968.8659355964824\n",
      "Test passed for alpha =  0.05\n",
      "hi^2 (1-0.1)= 3937.089982981645\n",
      "Test passed for alpha =  0.1\n"
     ]
    }
   ],
   "source": [
    "start = time.time()\n",
    "wolfram = bits_to_bytes(Wolfram(m))\n",
    "end = time.time()\n",
    "print(\"wolfram time =\", end - start)\n",
    "\n",
    "# to_file(wolfram, \"wolfram\")\n",
    "\n",
    "print(\"Генератор Вольфрама:\")\n",
    "three_tests(wolfram)"
   ]
  },
  {
   "cell_type": "code",
   "execution_count": 315,
   "metadata": {},
   "outputs": [
    {
     "name": "stdout",
     "output_type": "stream",
     "text": [
      "librarian time = 0.2000415325164795\n",
      "Генератор «Бібліотекар»:\n",
      "---- TEST 1 ------\n",
      "hi^2= 4067291.4754559994\n",
      "hi^2 (1-0.01)= 307.53633180705333\n",
      "Test failed for alpha =  0.01\n",
      "hi^2 (1-0.05)= 292.1460248434483\n",
      "Test failed for alpha =  0.05\n",
      "hi^2 (1-0.1)= 283.9415091576389\n",
      "Test failed for alpha =  0.1\n",
      "---- TEST 2 ------\n",
      "hi^2= 877532.2087601556\n",
      "hi^2 (1-0.01)= 65863.9379421232\n",
      "Test failed for alpha =  0.01\n",
      "hi^2 (1-0.05)= 65618.1744483926\n",
      "Test failed for alpha =  0.05\n",
      "hi^2 (1-0.1)= 65487.158839407006\n",
      "Test failed for alpha =  0.1\n",
      "---- TEST 3 ------\n",
      "m= 125000 r= 16\n",
      "hi^2= 3203.676942960109\n",
      "hi^2 (1-0.01)= 4028.4723381595445\n",
      "Test passed for alpha =  0.01\n",
      "hi^2 (1-0.05)= 3968.8659355964824\n",
      "Test passed for alpha =  0.05\n",
      "hi^2 (1-0.1)= 3937.089982981645\n",
      "Test passed for alpha =  0.1\n"
     ]
    }
   ],
   "source": [
    "start = time.time()\n",
    "librarian = Librarian()[:n]\n",
    "end = time.time()\n",
    "print(\"librarian time =\", end - start)\n",
    "\n",
    "# to_file(librarian, \"librarian\")\n",
    "\n",
    "print(\"Генератор «Бібліотекар»:\")\n",
    "three_tests(librarian)"
   ]
  },
  {
   "cell_type": "code",
   "execution_count": 316,
   "metadata": {},
   "outputs": [
    {
     "name": "stdout",
     "output_type": "stream",
     "text": [
      "0\n",
      "100000\n",
      "200000\n",
      "300000\n",
      "400000\n",
      "500000\n",
      "600000\n",
      "700000\n",
      "800000\n",
      "900000\n",
      "blum_micali time = 54.449491024017334\n",
      "Генератор Блюма-Мікалі BM:\n",
      "---- TEST 1 ------\n",
      "hi^2= 269.65145600000017\n",
      "hi^2 (1-0.01)= 307.53633180705333\n",
      "Test passed for alpha =  0.01\n",
      "hi^2 (1-0.05)= 292.1460248434483\n",
      "Test passed for alpha =  0.05\n",
      "hi^2 (1-0.1)= 283.9415091576389\n",
      "Test passed for alpha =  0.1\n",
      "---- TEST 2 ------\n",
      "hi^2= 66436.62527499083\n",
      "hi^2 (1-0.01)= 65863.9379421232\n",
      "Test failed for alpha =  0.01\n",
      "hi^2 (1-0.05)= 65618.1744483926\n",
      "Test failed for alpha =  0.05\n",
      "hi^2 (1-0.1)= 65487.158839407006\n",
      "Test failed for alpha =  0.1\n",
      "---- TEST 3 ------\n",
      "m= 125000 r= 16\n",
      "hi^2= 3837.1314065270817\n",
      "hi^2 (1-0.01)= 4028.4723381595445\n",
      "Test passed for alpha =  0.01\n",
      "hi^2 (1-0.05)= 3968.8659355964824\n",
      "Test passed for alpha =  0.05\n",
      "hi^2 (1-0.1)= 3937.089982981645\n",
      "Test passed for alpha =  0.1\n"
     ]
    }
   ],
   "source": [
    "start = time.time()\n",
    "blum_micali = bits_to_bytes(BM(m))\n",
    "end = time.time()\n",
    "print(\"blum_micali time =\", end - start)\n",
    "\n",
    "# to_file(blum_micali, \"blum_micali\")\n",
    "\n",
    "print(\"Генератор Блюма-Мікалі BM:\")\n",
    "three_tests(blum_micali)"
   ]
  },
  {
   "cell_type": "code",
   "execution_count": 317,
   "metadata": {},
   "outputs": [
    {
     "name": "stdout",
     "output_type": "stream",
     "text": [
      "0\n",
      "25000\n",
      "50000\n",
      "75000\n",
      "100000\n",
      "bm_bytes time = 6.7931435108184814\n",
      "Генератор BM_bytes:\n",
      "---- TEST 1 ------\n",
      "hi^2= 232.83660800000024\n",
      "hi^2 (1-0.01)= 307.53633180705333\n",
      "Test passed for alpha =  0.01\n",
      "hi^2 (1-0.05)= 292.1460248434483\n",
      "Test passed for alpha =  0.05\n",
      "hi^2 (1-0.1)= 283.9415091576389\n",
      "Test passed for alpha =  0.1\n",
      "---- TEST 2 ------\n",
      "hi^2= 65994.98676590668\n",
      "hi^2 (1-0.01)= 65863.9379421232\n",
      "Test failed for alpha =  0.01\n",
      "hi^2 (1-0.05)= 65618.1744483926\n",
      "Test failed for alpha =  0.05\n",
      "hi^2 (1-0.1)= 65487.158839407006\n",
      "Test failed for alpha =  0.1\n",
      "---- TEST 3 ------\n",
      "m= 125000 r= 16\n",
      "hi^2= 3825.027286582063\n",
      "hi^2 (1-0.01)= 4028.4723381595445\n",
      "Test passed for alpha =  0.01\n",
      "hi^2 (1-0.05)= 3968.8659355964824\n",
      "Test passed for alpha =  0.05\n",
      "hi^2 (1-0.1)= 3937.089982981645\n",
      "Test passed for alpha =  0.1\n"
     ]
    }
   ],
   "source": [
    "start = time.time()\n",
    "bm_bytes = BM_bytes(n)\n",
    "end = time.time()\n",
    "print(\"bm_bytes time =\", end - start)\n",
    "\n",
    "# to_file(bm_bytes, \"bm_bytes\")\n",
    "\n",
    "print(\"Генератор BM_bytes:\")\n",
    "three_tests(bm_bytes)"
   ]
  },
  {
   "cell_type": "code",
   "execution_count": 318,
   "metadata": {},
   "outputs": [
    {
     "name": "stdout",
     "output_type": "stream",
     "text": [
      "100000\n",
      "200000\n",
      "300000\n",
      "400000\n",
      "500000\n",
      "600000\n",
      "700000\n",
      "800000\n",
      "900000\n",
      "bbs_bin time = 1.283982276916504\n",
      "Генератор BBS:\n",
      "---- TEST 1 ------\n",
      "hi^2= 31874488.004096\n",
      "hi^2 (1-0.01)= 307.53633180705333\n",
      "Test failed for alpha =  0.01\n",
      "hi^2 (1-0.05)= 292.1460248434483\n",
      "Test failed for alpha =  0.05\n",
      "hi^2 (1-0.1)= 283.9415091576389\n",
      "Test failed for alpha =  0.1\n",
      "---- TEST 2 ------\n",
      "hi^2= -62500\n",
      "hi^2 (1-0.01)= 65863.9379421232\n",
      "Test passed for alpha =  0.01\n",
      "hi^2 (1-0.05)= 65618.1744483926\n",
      "Test passed for alpha =  0.05\n",
      "hi^2 (1-0.1)= 65487.158839407006\n",
      "Test passed for alpha =  0.1\n",
      "---- TEST 3 ------\n",
      "m= 125000 r= 16\n",
      "hi^2= 0.0\n",
      "hi^2 (1-0.01)= 4028.4723381595445\n",
      "Test passed for alpha =  0.01\n",
      "hi^2 (1-0.05)= 3968.8659355964824\n",
      "Test passed for alpha =  0.05\n",
      "hi^2 (1-0.1)= 3937.089982981645\n",
      "Test passed for alpha =  0.1\n"
     ]
    }
   ],
   "source": [
    "start = time.time()\n",
    "bbs_bin = bits_to_bytes(BBS_bin(m))\n",
    "end = time.time()\n",
    "print(\"bbs_bin time =\", end - start)\n",
    "\n",
    "# to_file(bbs_bin, \"bbs_bin\")\n",
    "\n",
    "print(\"Генератор BBS:\")\n",
    "three_tests(bbs_bin)"
   ]
  },
  {
   "cell_type": "code",
   "execution_count": 319,
   "metadata": {},
   "outputs": [
    {
     "name": "stdout",
     "output_type": "stream",
     "text": [
      "25000\n",
      "50000\n",
      "75000\n",
      "100000\n",
      "bbs_byte time = 0.08355569839477539\n",
      "Генератор BBS_bytes:\n",
      "---- TEST 1 ------\n",
      "hi^2= 31873721.012288097\n",
      "hi^2 (1-0.01)= 307.53633180705333\n",
      "Test failed for alpha =  0.01\n",
      "hi^2 (1-0.05)= 292.1460248434483\n",
      "Test failed for alpha =  0.05\n",
      "hi^2 (1-0.1)= 283.9415091576389\n",
      "Test failed for alpha =  0.1\n",
      "---- TEST 2 ------\n",
      "hi^2= 62499.0\n",
      "hi^2 (1-0.01)= 65863.9379421232\n",
      "Test passed for alpha =  0.01\n",
      "hi^2 (1-0.05)= 65618.1744483926\n",
      "Test passed for alpha =  0.05\n",
      "hi^2 (1-0.1)= 65487.158839407006\n",
      "Test passed for alpha =  0.1\n",
      "---- TEST 3 ------\n",
      "m= 124999 r= 16\n",
      "hi^2= 30.000480038379564\n",
      "hi^2 (1-0.01)= 4028.4723381595445\n",
      "Test passed for alpha =  0.01\n",
      "hi^2 (1-0.05)= 3968.8659355964824\n",
      "Test passed for alpha =  0.05\n",
      "hi^2 (1-0.1)= 3937.089982981645\n",
      "Test passed for alpha =  0.1\n"
     ]
    }
   ],
   "source": [
    "start = time.time()\n",
    "bbs_byte = BBS_b(n)\n",
    "end = time.time()\n",
    "print(\"bbs_byte time =\", end - start)\n",
    "\n",
    "# to_file(bbs_byte, \"bbs_byte\")\n",
    "\n",
    "print(\"Генератор BBS_bytes:\")\n",
    "three_tests(bbs_byte)"
   ]
  },
  {
   "cell_type": "code",
   "execution_count": null,
   "metadata": {},
   "outputs": [],
   "source": []
  }
 ],
 "metadata": {
  "kernelspec": {
   "display_name": "Python 3",
   "language": "python",
   "name": "python3"
  },
  "language_info": {
   "codemirror_mode": {
    "name": "ipython",
    "version": 3
   },
   "file_extension": ".py",
   "mimetype": "text/x-python",
   "name": "python",
   "nbconvert_exporter": "python",
   "pygments_lexer": "ipython3",
   "version": "3.8.3"
  }
 },
 "nbformat": 4,
 "nbformat_minor": 4
}
